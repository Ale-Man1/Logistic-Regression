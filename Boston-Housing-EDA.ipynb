{
  "nbformat": 4,
  "nbformat_minor": 0,
  "metadata": {
    "colab": {
      "name": "A_Mandujano_Quiz4.ipynb",
      "provenance": [],
      "collapsed_sections": []
    },
    "kernelspec": {
      "name": "python3",
      "display_name": "Python 3"
    },
    "language_info": {
      "name": "python"
    }
  },
  "cells": [
    {
      "cell_type": "markdown",
      "source": [
        "# Logistic Regression"
      ],
      "metadata": {
        "id": "jsq21pfe1ZAP"
      }
    },
    {
      "cell_type": "markdown",
      "source": [
        "## Introduction"
      ],
      "metadata": {
        "id": "_c-AzSEc1csP"
      }
    },
    {
      "cell_type": "markdown",
      "source": [
        "The banking industry in the USA is highly regulated. Banks are required to adhere to strict guidelines regarding the management of customer deposits, the maintaining of customer privacy, and the avoidance of discrimination when approving or rejecting loan applications (excerpt from assignments first paragraph). To check for any signs of discrimination, we will test whether a person who is black has faced discrimination in the banking industry."
      ],
      "metadata": {
        "id": "Cr-jaPQXMTRD"
      }
    },
    {
      "cell_type": "code",
      "source": [
        "import pandas as pd\n",
        "import numpy as np\n",
        "import seaborn as sns\n",
        "import warnings\n",
        "\n",
        "\n",
        "df = pd.read_csv(\"https://raw.githubusercontent.com/Ale-Man1/Logistic-Regression/main/HDMA_Boston_Housing_Data.csv\")\n",
        "pd.set_option('display.max_columns', None)\n",
        "df.drop('index', inplace=True, axis=1)\n",
        "warnings.simplefilter(action='ignore', category=FutureWarning)\n",
        "df.index += 1\n",
        "print(df)\n",
        "df.dtypes\n",
        "df.describe()"
      ],
      "metadata": {
        "colab": {
          "base_uri": "https://localhost:8080/",
          "height": 769
        },
        "id": "fskn4fw61qMb",
        "outputId": "b4d66ffe-f038-46a8-8b48-9532b5423782"
      },
      "execution_count": 172,
      "outputs": [
        {
          "output_type": "stream",
          "name": "stdout",
          "text": [
            "           dir       hir       lvr       ccs       mcs pbcr dmi self single  \\\n",
            "1     0.221000  0.221000  0.800000  5.000000  2.000000   no  no   no     no   \n",
            "2     0.265000  0.265000  0.921875  2.000000  2.000000   no  no   no    yes   \n",
            "3     0.372000  0.248000  0.920398  1.000000  2.000000   no  no   no     no   \n",
            "4     0.320000  0.250000  0.860465  1.000000  2.000000   no  no   no     no   \n",
            "5     0.360000  0.350000  0.600000  1.000000  1.000000   no  no   no     no   \n",
            "...        ...       ...       ...       ...       ...  ...  ..  ...    ...   \n",
            "2377  0.300000  0.300000  0.777049  1.000000  2.000000   no  no   no    yes   \n",
            "2378  0.260000  0.200000  0.526761  2.000000  1.000000   no  no   no     no   \n",
            "2379  0.320000  0.260000  0.753846  6.000000  1.000000  yes  no   no    yes   \n",
            "2380  0.350000  0.260000  0.813559  2.000000  2.000000   no  no   no    yes   \n",
            "2381  0.330814  0.255346  0.700783  2.116387  1.721008  NaN  no  NaN    yes   \n",
            "\n",
            "          uria  comdominiom black deny  \n",
            "1     3.900000            0    no   no  \n",
            "2     3.200000            0    no   no  \n",
            "3     3.200000            0    no   no  \n",
            "4     4.300000            0    no   no  \n",
            "5     3.200000            0    no   no  \n",
            "...        ...          ...   ...  ...  \n",
            "2377  3.200000            1    no   no  \n",
            "2378  3.100000            0    no   no  \n",
            "2379  3.100000            1   yes  yes  \n",
            "2380  4.300000            1    no  yes  \n",
            "2381  3.774496            0    no   no  \n",
            "\n",
            "[2381 rows x 13 columns]\n"
          ]
        },
        {
          "output_type": "execute_result",
          "data": {
            "text/plain": [
              "               dir          hir          lvr          ccs          mcs  \\\n",
              "count  2381.000000  2381.000000  2381.000000  2381.000000  2381.000000   \n",
              "mean      0.330814     0.255346     0.737760     2.116387     1.721008   \n",
              "std       0.107235     0.096635     0.178715     1.666370     0.537169   \n",
              "min       0.000000     0.000000     0.020000     1.000000     1.000000   \n",
              "25%       0.280000     0.214000     0.652850     1.000000     1.000000   \n",
              "50%       0.330000     0.260000     0.779412     1.000000     2.000000   \n",
              "75%       0.370000     0.298800     0.868421     2.000000     2.000000   \n",
              "max       3.000000     3.000000     1.950000     6.000000     4.000000   \n",
              "\n",
              "              uria  comdominiom  \n",
              "count  2381.000000  2381.000000  \n",
              "mean      3.774496     0.288114  \n",
              "std       2.026636     0.452980  \n",
              "min       1.800000     0.000000  \n",
              "25%       3.100000     0.000000  \n",
              "50%       3.200000     0.000000  \n",
              "75%       3.900000     1.000000  \n",
              "max      10.600000     1.000000  "
            ],
            "text/html": [
              "\n",
              "  <div id=\"df-3291e161-1136-4789-b1b0-af2dd40eee73\">\n",
              "    <div class=\"colab-df-container\">\n",
              "      <div>\n",
              "<style scoped>\n",
              "    .dataframe tbody tr th:only-of-type {\n",
              "        vertical-align: middle;\n",
              "    }\n",
              "\n",
              "    .dataframe tbody tr th {\n",
              "        vertical-align: top;\n",
              "    }\n",
              "\n",
              "    .dataframe thead th {\n",
              "        text-align: right;\n",
              "    }\n",
              "</style>\n",
              "<table border=\"1\" class=\"dataframe\">\n",
              "  <thead>\n",
              "    <tr style=\"text-align: right;\">\n",
              "      <th></th>\n",
              "      <th>dir</th>\n",
              "      <th>hir</th>\n",
              "      <th>lvr</th>\n",
              "      <th>ccs</th>\n",
              "      <th>mcs</th>\n",
              "      <th>uria</th>\n",
              "      <th>comdominiom</th>\n",
              "    </tr>\n",
              "  </thead>\n",
              "  <tbody>\n",
              "    <tr>\n",
              "      <th>count</th>\n",
              "      <td>2381.000000</td>\n",
              "      <td>2381.000000</td>\n",
              "      <td>2381.000000</td>\n",
              "      <td>2381.000000</td>\n",
              "      <td>2381.000000</td>\n",
              "      <td>2381.000000</td>\n",
              "      <td>2381.000000</td>\n",
              "    </tr>\n",
              "    <tr>\n",
              "      <th>mean</th>\n",
              "      <td>0.330814</td>\n",
              "      <td>0.255346</td>\n",
              "      <td>0.737760</td>\n",
              "      <td>2.116387</td>\n",
              "      <td>1.721008</td>\n",
              "      <td>3.774496</td>\n",
              "      <td>0.288114</td>\n",
              "    </tr>\n",
              "    <tr>\n",
              "      <th>std</th>\n",
              "      <td>0.107235</td>\n",
              "      <td>0.096635</td>\n",
              "      <td>0.178715</td>\n",
              "      <td>1.666370</td>\n",
              "      <td>0.537169</td>\n",
              "      <td>2.026636</td>\n",
              "      <td>0.452980</td>\n",
              "    </tr>\n",
              "    <tr>\n",
              "      <th>min</th>\n",
              "      <td>0.000000</td>\n",
              "      <td>0.000000</td>\n",
              "      <td>0.020000</td>\n",
              "      <td>1.000000</td>\n",
              "      <td>1.000000</td>\n",
              "      <td>1.800000</td>\n",
              "      <td>0.000000</td>\n",
              "    </tr>\n",
              "    <tr>\n",
              "      <th>25%</th>\n",
              "      <td>0.280000</td>\n",
              "      <td>0.214000</td>\n",
              "      <td>0.652850</td>\n",
              "      <td>1.000000</td>\n",
              "      <td>1.000000</td>\n",
              "      <td>3.100000</td>\n",
              "      <td>0.000000</td>\n",
              "    </tr>\n",
              "    <tr>\n",
              "      <th>50%</th>\n",
              "      <td>0.330000</td>\n",
              "      <td>0.260000</td>\n",
              "      <td>0.779412</td>\n",
              "      <td>1.000000</td>\n",
              "      <td>2.000000</td>\n",
              "      <td>3.200000</td>\n",
              "      <td>0.000000</td>\n",
              "    </tr>\n",
              "    <tr>\n",
              "      <th>75%</th>\n",
              "      <td>0.370000</td>\n",
              "      <td>0.298800</td>\n",
              "      <td>0.868421</td>\n",
              "      <td>2.000000</td>\n",
              "      <td>2.000000</td>\n",
              "      <td>3.900000</td>\n",
              "      <td>1.000000</td>\n",
              "    </tr>\n",
              "    <tr>\n",
              "      <th>max</th>\n",
              "      <td>3.000000</td>\n",
              "      <td>3.000000</td>\n",
              "      <td>1.950000</td>\n",
              "      <td>6.000000</td>\n",
              "      <td>4.000000</td>\n",
              "      <td>10.600000</td>\n",
              "      <td>1.000000</td>\n",
              "    </tr>\n",
              "  </tbody>\n",
              "</table>\n",
              "</div>\n",
              "      <button class=\"colab-df-convert\" onclick=\"convertToInteractive('df-3291e161-1136-4789-b1b0-af2dd40eee73')\"\n",
              "              title=\"Convert this dataframe to an interactive table.\"\n",
              "              style=\"display:none;\">\n",
              "        \n",
              "  <svg xmlns=\"http://www.w3.org/2000/svg\" height=\"24px\"viewBox=\"0 0 24 24\"\n",
              "       width=\"24px\">\n",
              "    <path d=\"M0 0h24v24H0V0z\" fill=\"none\"/>\n",
              "    <path d=\"M18.56 5.44l.94 2.06.94-2.06 2.06-.94-2.06-.94-.94-2.06-.94 2.06-2.06.94zm-11 1L8.5 8.5l.94-2.06 2.06-.94-2.06-.94L8.5 2.5l-.94 2.06-2.06.94zm10 10l.94 2.06.94-2.06 2.06-.94-2.06-.94-.94-2.06-.94 2.06-2.06.94z\"/><path d=\"M17.41 7.96l-1.37-1.37c-.4-.4-.92-.59-1.43-.59-.52 0-1.04.2-1.43.59L10.3 9.45l-7.72 7.72c-.78.78-.78 2.05 0 2.83L4 21.41c.39.39.9.59 1.41.59.51 0 1.02-.2 1.41-.59l7.78-7.78 2.81-2.81c.8-.78.8-2.07 0-2.86zM5.41 20L4 18.59l7.72-7.72 1.47 1.35L5.41 20z\"/>\n",
              "  </svg>\n",
              "      </button>\n",
              "      \n",
              "  <style>\n",
              "    .colab-df-container {\n",
              "      display:flex;\n",
              "      flex-wrap:wrap;\n",
              "      gap: 12px;\n",
              "    }\n",
              "\n",
              "    .colab-df-convert {\n",
              "      background-color: #E8F0FE;\n",
              "      border: none;\n",
              "      border-radius: 50%;\n",
              "      cursor: pointer;\n",
              "      display: none;\n",
              "      fill: #1967D2;\n",
              "      height: 32px;\n",
              "      padding: 0 0 0 0;\n",
              "      width: 32px;\n",
              "    }\n",
              "\n",
              "    .colab-df-convert:hover {\n",
              "      background-color: #E2EBFA;\n",
              "      box-shadow: 0px 1px 2px rgba(60, 64, 67, 0.3), 0px 1px 3px 1px rgba(60, 64, 67, 0.15);\n",
              "      fill: #174EA6;\n",
              "    }\n",
              "\n",
              "    [theme=dark] .colab-df-convert {\n",
              "      background-color: #3B4455;\n",
              "      fill: #D2E3FC;\n",
              "    }\n",
              "\n",
              "    [theme=dark] .colab-df-convert:hover {\n",
              "      background-color: #434B5C;\n",
              "      box-shadow: 0px 1px 3px 1px rgba(0, 0, 0, 0.15);\n",
              "      filter: drop-shadow(0px 1px 2px rgba(0, 0, 0, 0.3));\n",
              "      fill: #FFFFFF;\n",
              "    }\n",
              "  </style>\n",
              "\n",
              "      <script>\n",
              "        const buttonEl =\n",
              "          document.querySelector('#df-3291e161-1136-4789-b1b0-af2dd40eee73 button.colab-df-convert');\n",
              "        buttonEl.style.display =\n",
              "          google.colab.kernel.accessAllowed ? 'block' : 'none';\n",
              "\n",
              "        async function convertToInteractive(key) {\n",
              "          const element = document.querySelector('#df-3291e161-1136-4789-b1b0-af2dd40eee73');\n",
              "          const dataTable =\n",
              "            await google.colab.kernel.invokeFunction('convertToInteractive',\n",
              "                                                     [key], {});\n",
              "          if (!dataTable) return;\n",
              "\n",
              "          const docLinkHtml = 'Like what you see? Visit the ' +\n",
              "            '<a target=\"_blank\" href=https://colab.research.google.com/notebooks/data_table.ipynb>data table notebook</a>'\n",
              "            + ' to learn more about interactive tables.';\n",
              "          element.innerHTML = '';\n",
              "          dataTable['output_type'] = 'display_data';\n",
              "          await google.colab.output.renderOutput(dataTable, element);\n",
              "          const docLink = document.createElement('div');\n",
              "          docLink.innerHTML = docLinkHtml;\n",
              "          element.appendChild(docLink);\n",
              "        }\n",
              "      </script>\n",
              "    </div>\n",
              "  </div>\n",
              "  "
            ]
          },
          "metadata": {},
          "execution_count": 172
        }
      ]
    },
    {
      "cell_type": "markdown",
      "source": [
        "## EDA"
      ],
      "metadata": {
        "id": "_mXMJP631gBM"
      }
    },
    {
      "cell_type": "markdown",
      "source": [
        "We will be exploring the data set to see if we can create a conclusion from it."
      ],
      "metadata": {
        "id": "WD3y3mwbU24j"
      }
    },
    {
      "cell_type": "markdown",
      "source": [
        "### Attribute 1: Debt Payments to Total Income Ratio (DIR)"
      ],
      "metadata": {
        "id": "AQKG12PlYWqC"
      }
    },
    {
      "cell_type": "code",
      "source": [
        "plt1_sns = sns.boxplot(data=df, y=\"dir\").set(title=\"Debt Payments to Total Income Ratio\") # Graph for EDA\n",
        "plt1_sns;\n",
        "print(df[\"dir\"].describe()) # Describe to show stats"
      ],
      "metadata": {
        "colab": {
          "base_uri": "https://localhost:8080/",
          "height": 424
        },
        "id": "xS0keqVzVBhB",
        "outputId": "09ae3720-8a53-48a5-a87c-19db100ddea4"
      },
      "execution_count": 173,
      "outputs": [
        {
          "output_type": "stream",
          "name": "stdout",
          "text": [
            "count    2381.000000\n",
            "mean        0.330814\n",
            "std         0.107235\n",
            "min         0.000000\n",
            "25%         0.280000\n",
            "50%         0.330000\n",
            "75%         0.370000\n",
            "max         3.000000\n",
            "Name: dir, dtype: float64\n"
          ]
        },
        {
          "output_type": "display_data",
          "data": {
            "text/plain": [
              "<Figure size 432x288 with 1 Axes>"
            ],
            "image/png": "[encoded data removed]"
          },
          "metadata": {
            "needs_background": "light"
          }
        }
      ]
    },
    {
      "cell_type": "markdown",
      "source": [
        "### Attribute 2: Housing Expenses to Income Ratio (HIR)"
      ],
      "metadata": {
        "id": "iQolq8FkYb51"
      }
    },
    {
      "cell_type": "code",
      "source": [
        "plt2_sns = sns.boxplot(data=df, y=\"hir\").set(title=\"Housing Expenses to Income Ratio\") # Graph for EDA\n",
        "plt2_sns;\n",
        "print(df[\"hir\"].describe()) # Describe to show stats"
      ],
      "metadata": {
        "colab": {
          "base_uri": "https://localhost:8080/",
          "height": 424
        },
        "id": "jgAyYobRWtP0",
        "outputId": "a8d277be-5dfa-4158-b9a8-dd1d5b0f449f"
      },
      "execution_count": 174,
      "outputs": [
        {
          "output_type": "stream",
          "name": "stdout",
          "text": [
            "count    2381.000000\n",
            "mean        0.255346\n",
            "std         0.096635\n",
            "min         0.000000\n",
            "25%         0.214000\n",
            "50%         0.260000\n",
            "75%         0.298800\n",
            "max         3.000000\n",
            "Name: hir, dtype: float64\n"
          ]
        },
        {
          "output_type": "display_data",
          "data": {
            "text/plain": [
              "<Figure size 432x288 with 1 Axes>"
            ],
            "image/png": "[encoded data removed]"
          },
          "metadata": {
            "needs_background": "light"
          }
        }
      ]
    },
    {
      "cell_type": "markdown",
      "source": [
        "### Attribute 3: Ratio of Size of Loan to Assessed Value of Property (LVR)"
      ],
      "metadata": {
        "id": "LLgkedO4Yu3m"
      }
    },
    {
      "cell_type": "code",
      "source": [
        "plt3_sns = sns.boxplot(data=df, y=\"lvr\").set(title=\"Ratio of Size of Loan to Assessed Value of Property (LVR)\") # Graph for EDA\n",
        "plt3_sns;\n",
        "print(df[\"lvr\"].describe()) # Describe to show stats"
      ],
      "metadata": {
        "colab": {
          "base_uri": "https://localhost:8080/",
          "height": 424
        },
        "id": "ZcJBcc7MY1mA",
        "outputId": "82c19cef-4ad0-40f8-dc15-fda88888aee2"
      },
      "execution_count": 175,
      "outputs": [
        {
          "output_type": "stream",
          "name": "stdout",
          "text": [
            "count    2381.000000\n",
            "mean        0.737760\n",
            "std         0.178715\n",
            "min         0.020000\n",
            "25%         0.652850\n",
            "50%         0.779412\n",
            "75%         0.868421\n",
            "max         1.950000\n",
            "Name: lvr, dtype: float64\n"
          ]
        },
        {
          "output_type": "display_data",
          "data": {
            "text/plain": [
              "<Figure size 432x288 with 1 Axes>"
            ],
            "image/png": "[encoded data removed]"
          },
          "metadata": {
            "needs_background": "light"
          }
        }
      ]
    },
    {
      "cell_type": "markdown",
      "source": [
        "### Attribute 4: Consumer Credit Score (CCS)"
      ],
      "metadata": {
        "id": "YV5dmjDsZKKT"
      }
    },
    {
      "cell_type": "code",
      "source": [
        "plt4_sns = sns.boxplot(data=df, y=\"ccs\").set(title=\"Consumer Credit Score (CCS)\") # Graph for EDA (1 is lowest, 6 is highest)\n",
        "plt4_sns;\n",
        "print(df[\"ccs\"].describe()) # Describe to show stats"
      ],
      "metadata": {
        "colab": {
          "base_uri": "https://localhost:8080/",
          "height": 424
        },
        "id": "erFgLxYeZIuf",
        "outputId": "8f15934a-a431-4f72-d342-b10e2e6bfef0"
      },
      "execution_count": 176,
      "outputs": [
        {
          "output_type": "stream",
          "name": "stdout",
          "text": [
            "count    2381.000000\n",
            "mean        2.116387\n",
            "std         1.666370\n",
            "min         1.000000\n",
            "25%         1.000000\n",
            "50%         1.000000\n",
            "75%         2.000000\n",
            "max         6.000000\n",
            "Name: ccs, dtype: float64\n"
          ]
        },
        {
          "output_type": "display_data",
          "data": {
            "text/plain": [
              "<Figure size 432x288 with 1 Axes>"
            ],
            "image/png": "[encoded data removed]"
          },
          "metadata": {
            "needs_background": "light"
          }
        }
      ]
    },
    {
      "cell_type": "markdown",
      "source": [
        "### Attribute 5: Mortgage Credit Score (MCS)"
      ],
      "metadata": {
        "id": "2CmWdUnrZ_Wi"
      }
    },
    {
      "cell_type": "code",
      "source": [
        "plt5_sns = sns.boxplot(data=df, y=\"mcs\").set(title=\"Mortgage Credit Score (MCS)\") # Graph for EDA (1 is lowest, 4 is highest)\n",
        "plt5_sns;\n",
        "print(df[\"mcs\"].describe()) # Describe to show stats"
      ],
      "metadata": {
        "colab": {
          "base_uri": "https://localhost:8080/",
          "height": 424
        },
        "id": "NNBaoNknaT53",
        "outputId": "ac9b2dbd-ce4c-41ee-9793-a84fccc450f0"
      },
      "execution_count": 177,
      "outputs": [
        {
          "output_type": "stream",
          "name": "stdout",
          "text": [
            "count    2381.000000\n",
            "mean        1.721008\n",
            "std         0.537169\n",
            "min         1.000000\n",
            "25%         1.000000\n",
            "50%         2.000000\n",
            "75%         2.000000\n",
            "max         4.000000\n",
            "Name: mcs, dtype: float64\n"
          ]
        },
        {
          "output_type": "display_data",
          "data": {
            "text/plain": [
              "<Figure size 432x288 with 1 Axes>"
            ],
            "image/png": "[encoded data removed]"
          },
          "metadata": {
            "needs_background": "light"
          }
        }
      ]
    },
    {
      "cell_type": "markdown",
      "source": [
        "### Attribute 6: Public Bad Credit Record (PBCR)"
      ],
      "metadata": {
        "id": "FpyyRvxSazLy"
      }
    },
    {
      "cell_type": "code",
      "source": [
        "plt6_sns = sns.countplot(data=df, x=\"pbcr\").set(title='Public Bad Credit Record') # Graph for EDA\n",
        "plt6_sns;\n",
        "print(df[\"pbcr\"].describe()) # Describe to show stats"
      ],
      "metadata": {
        "colab": {
          "base_uri": "https://localhost:8080/",
          "height": 382
        },
        "id": "sNWp4gqla1CF",
        "outputId": "e2719292-956a-4ca4-adc1-16d966ed36f6"
      },
      "execution_count": 178,
      "outputs": [
        {
          "output_type": "stream",
          "name": "stdout",
          "text": [
            "count     2380\n",
            "unique       2\n",
            "top         no\n",
            "freq      2205\n",
            "Name: pbcr, dtype: object\n"
          ]
        },
        {
          "output_type": "display_data",
          "data": {
            "text/plain": [
              "<Figure size 432x288 with 1 Axes>"
            ],
            "image/png": "[encoded data removed]"
          },
          "metadata": {
            "needs_background": "light"
          }
        }
      ]
    },
    {
      "cell_type": "markdown",
      "source": [
        "### Attribute 7: Denied Mortgage Insurance (DMI)"
      ],
      "metadata": {
        "id": "TjlL5TDBdqEd"
      }
    },
    {
      "cell_type": "code",
      "source": [
        "plt7_sns = sns.countplot(data=df, x=\"dmi\").set(title='Denied Mortgage Insurance') # Graph for EDA\n",
        "plt7_sns;\n",
        "print(df[\"dmi\"].describe()) # Describe to show stats"
      ],
      "metadata": {
        "colab": {
          "base_uri": "https://localhost:8080/",
          "height": 382
        },
        "id": "s1AlZ2_Udzil",
        "outputId": "23d1c73b-fefa-4518-8d7c-e1f894601db1"
      },
      "execution_count": 179,
      "outputs": [
        {
          "output_type": "stream",
          "name": "stdout",
          "text": [
            "count     2381\n",
            "unique       2\n",
            "top         no\n",
            "freq      2333\n",
            "Name: dmi, dtype: object\n"
          ]
        },
        {
          "output_type": "display_data",
          "data": {
            "text/plain": [
              "<Figure size 432x288 with 1 Axes>"
            ],
            "image/png": "[encoded data removed]"
          },
          "metadata": {
            "needs_background": "light"
          }
        }
      ]
    },
    {
      "cell_type": "markdown",
      "source": [
        "### Attribute 8: Self Employed (SELF)"
      ],
      "metadata": {
        "id": "JBcCrBv1d_FE"
      }
    },
    {
      "cell_type": "code",
      "source": [
        "plt8_sns = sns.countplot(data=df, x=\"self\").set(title='Self Employed (SELF)') # Graph for EDA\n",
        "plt8_sns;\n",
        "print(df[\"self\"].describe()) # Describe to show stats"
      ],
      "metadata": {
        "colab": {
          "base_uri": "https://localhost:8080/",
          "height": 382
        },
        "id": "ziULIgp4eIMd",
        "outputId": "9fefac38-ffde-4eb4-eae7-565cba6785a2"
      },
      "execution_count": 180,
      "outputs": [
        {
          "output_type": "stream",
          "name": "stdout",
          "text": [
            "count     2380\n",
            "unique       2\n",
            "top         no\n",
            "freq      2103\n",
            "Name: self, dtype: object\n"
          ]
        },
        {
          "output_type": "display_data",
          "data": {
            "text/plain": [
              "<Figure size 432x288 with 1 Axes>"
            ],
            "image/png": "[encoded data removed]"
          },
          "metadata": {
            "needs_background": "light"
          }
        }
      ]
    },
    {
      "cell_type": "markdown",
      "source": [
        "### Attribute 9: Is the Person Single? (SINGLE)"
      ],
      "metadata": {
        "id": "juuH_Mr4eYu1"
      }
    },
    {
      "cell_type": "code",
      "source": [
        "plt9_sns = sns.countplot(data=df, x=\"single\").set(title='Is the Person Single?') # Graph for EDA\n",
        "plt9_sns;\n",
        "print(df[\"single\"].describe()) # Describe to show stats"
      ],
      "metadata": {
        "colab": {
          "base_uri": "https://localhost:8080/",
          "height": 382
        },
        "id": "yU8xZ8hKe3E7",
        "outputId": "05f4fd90-ea41-49ed-f838-25d8f4238eb7"
      },
      "execution_count": 181,
      "outputs": [
        {
          "output_type": "stream",
          "name": "stdout",
          "text": [
            "count     2381\n",
            "unique       2\n",
            "top         no\n",
            "freq      1444\n",
            "Name: single, dtype: object\n"
          ]
        },
        {
          "output_type": "display_data",
          "data": {
            "text/plain": [
              "<Figure size 432x288 with 1 Axes>"
            ],
            "image/png": "[encoded data removed]"
          },
          "metadata": {
            "needs_background": "light"
          }
        }
      ]
    },
    {
      "cell_type": "markdown",
      "source": [
        "### Attribute 10: 1989 Massachusetts Unemployment Rate in the Applicant's Industry (uria)"
      ],
      "metadata": {
        "id": "KtfXx680h9O1"
      }
    },
    {
      "cell_type": "code",
      "source": [
        "plt10_sns = sns.boxplot(data=df, y=\"uria\").set(title=\"1989 Massachusetts Unemployment Rate in the Applicant's Industry (uria)\") # Graph for EDA (1 is lowest, 4 is highest)\n",
        "plt10_sns;\n",
        "print(df[\"uria\"].describe()) # Describe to show stats"
      ],
      "metadata": {
        "colab": {
          "base_uri": "https://localhost:8080/",
          "height": 424
        },
        "id": "nrxlGKF2i0R3",
        "outputId": "78d33ba7-7dbb-4d93-b069-6a6110c8e83e"
      },
      "execution_count": 182,
      "outputs": [
        {
          "output_type": "stream",
          "name": "stdout",
          "text": [
            "count    2381.000000\n",
            "mean        3.774496\n",
            "std         2.026636\n",
            "min         1.800000\n",
            "25%         3.100000\n",
            "50%         3.200000\n",
            "75%         3.900000\n",
            "max        10.600000\n",
            "Name: uria, dtype: float64\n"
          ]
        },
        {
          "output_type": "display_data",
          "data": {
            "text/plain": [
              "<Figure size 432x288 with 1 Axes>"
            ],
            "image/png": "[encoded data removed]"
          },
          "metadata": {
            "needs_background": "light"
          }
        }
      ]
    },
    {
      "cell_type": "markdown",
      "source": [
        "### Attribute 11: Is Unit a Condominium? (condominium)"
      ],
      "metadata": {
        "id": "stQd4s9Sh9nI"
      }
    },
    {
      "cell_type": "code",
      "source": [
        "plt11_sns = sns.countplot(data=df, x=\"comdominiom\").set(title='Is Unit a Condominium?') # Graph for EDA\n",
        "plt11_sns;\n",
        "print(df[\"comdominiom\"].describe()) # Describe to show stats"
      ],
      "metadata": {
        "colab": {
          "base_uri": "https://localhost:8080/",
          "height": 451
        },
        "id": "6y6otUTUi01A",
        "outputId": "628619d9-d82d-4032-920a-a94d31add567"
      },
      "execution_count": 183,
      "outputs": [
        {
          "output_type": "stream",
          "name": "stdout",
          "text": [
            "count    2381.000000\n",
            "mean        0.288114\n",
            "std         0.452980\n",
            "min         0.000000\n",
            "25%         0.000000\n",
            "50%         0.000000\n",
            "75%         1.000000\n",
            "max         1.000000\n",
            "Name: comdominiom, dtype: float64\n"
          ]
        },
        {
          "output_type": "display_data",
          "data": {
            "text/plain": [
              "<Figure size 432x288 with 1 Axes>"
            ],
            "image/png": "[encoded data removed]"
          },
          "metadata": {
            "needs_background": "light"
          }
        }
      ]
    },
    {
      "cell_type": "markdown",
      "source": [
        "### Attribute 12: Is the Person black? (black)"
      ],
      "metadata": {
        "id": "rnXr9nRZh-AM"
      }
    },
    {
      "cell_type": "code",
      "source": [
        "plt12_sns = sns.countplot(data=df, x=\"black\").set(title='Is the Person black?') # Graph for EDA\n",
        "plt12_sns;\n",
        "print(df[\"black\"].describe()) # Describe to show stats"
      ],
      "metadata": {
        "colab": {
          "base_uri": "https://localhost:8080/",
          "height": 382
        },
        "id": "6OvBoVAoi1Py",
        "outputId": "16edea60-41de-48ca-9e46-e8b9768c8a48"
      },
      "execution_count": 184,
      "outputs": [
        {
          "output_type": "stream",
          "name": "stdout",
          "text": [
            "count     2381\n",
            "unique       2\n",
            "top         no\n",
            "freq      2042\n",
            "Name: black, dtype: object\n"
          ]
        },
        {
          "output_type": "display_data",
          "data": {
            "text/plain": [
              "<Figure size 432x288 with 1 Axes>"
            ],
            "image/png": "[encoded data removed]"
          },
          "metadata": {
            "needs_background": "light"
          }
        }
      ]
    },
    {
      "cell_type": "markdown",
      "source": [
        "### Attribute 13: Mortgage Application Denied? (deny)"
      ],
      "metadata": {
        "id": "lr0CWrush-72"
      }
    },
    {
      "cell_type": "code",
      "source": [
        "plt13_sns = sns.countplot(data=df, x=\"deny\").set(title='Mortgage Application Denied?') # Graph for EDA\n",
        "plt13_sns;\n",
        "print(df[\"deny\"].describe()) # Describe to show stats"
      ],
      "metadata": {
        "colab": {
          "base_uri": "https://localhost:8080/",
          "height": 382
        },
        "id": "me2ss0xfi1uu",
        "outputId": "2b5c3f17-89ea-43ab-dffc-7bba707f88d7"
      },
      "execution_count": 185,
      "outputs": [
        {
          "output_type": "stream",
          "name": "stdout",
          "text": [
            "count     2381\n",
            "unique       2\n",
            "top         no\n",
            "freq      2096\n",
            "Name: deny, dtype: object\n"
          ]
        },
        {
          "output_type": "display_data",
          "data": {
            "text/plain": [
              "<Figure size 432x288 with 1 Axes>"
            ],
            "image/png": "[encoded data removed]"
          },
          "metadata": {
            "needs_background": "light"
          }
        }
      ]
    },
    {
      "cell_type": "markdown",
      "source": [
        "## Data Preparation"
      ],
      "metadata": {
        "id": "e9j2FTfO1jZk"
      }
    },
    {
      "cell_type": "markdown",
      "source": [
        "### Data Preparation Done"
      ],
      "metadata": {
        "id": "Zt0x5E7mxUk4"
      }
    },
    {
      "cell_type": "markdown",
      "source": [
        "The data preparation done on this data set was to find out how many rows contained the \"NaN\" value, if the amount of rows was small, then the rows with \"NaN\" would be removed. Since there is only one row with the value of \"NaN\" in its column, then any that single row will be removed from the data set."
      ],
      "metadata": {
        "id": "GSBYOF0CxYAB"
      }
    },
    {
      "cell_type": "code",
      "source": [
        "df_copy1 = df.dropna()\n",
        "df_copy1.describe()"
      ],
      "metadata": {
        "colab": {
          "base_uri": "https://localhost:8080/",
          "height": 300
        },
        "id": "nerDaQNFtlFG",
        "outputId": "1375b518-fd84-4d39-b4d2-be662cb318fe"
      },
      "execution_count": 186,
      "outputs": [
        {
          "output_type": "execute_result",
          "data": {
            "text/plain": [
              "               dir          hir          lvr          ccs          mcs  \\\n",
              "count  2380.000000  2380.000000  2380.000000  2380.000000  2380.000000   \n",
              "mean      0.330814     0.255346     0.737776     2.116387     1.721008   \n",
              "std       0.107257     0.096656     0.178751     1.666721     0.537282   \n",
              "min       0.000000     0.000000     0.020000     1.000000     1.000000   \n",
              "25%       0.280000     0.214000     0.652681     1.000000     1.000000   \n",
              "50%       0.330000     0.260000     0.779536     1.000000     2.000000   \n",
              "75%       0.370000     0.298825     0.868459     2.000000     2.000000   \n",
              "max       3.000000     3.000000     1.950000     6.000000     4.000000   \n",
              "\n",
              "              uria  comdominiom  \n",
              "count  2380.000000  2380.000000  \n",
              "mean      3.774496     0.288235  \n",
              "std       2.027062     0.453036  \n",
              "min       1.800000     0.000000  \n",
              "25%       3.100000     0.000000  \n",
              "50%       3.200000     0.000000  \n",
              "75%       3.900000     1.000000  \n",
              "max      10.600000     1.000000  "
            ],
            "text/html": [
              "\n",
              "  <div id=\"df-58c0651c-4c43-4e2d-912e-606ff42cd006\">\n",
              "    <div class=\"colab-df-container\">\n",
              "      <div>\n",
              "<style scoped>\n",
              "    .dataframe tbody tr th:only-of-type {\n",
              "        vertical-align: middle;\n",
              "    }\n",
              "\n",
              "    .dataframe tbody tr th {\n",
              "        vertical-align: top;\n",
              "    }\n",
              "\n",
              "    .dataframe thead th {\n",
              "        text-align: right;\n",
              "    }\n",
              "</style>\n",
              "<table border=\"1\" class=\"dataframe\">\n",
              "  <thead>\n",
              "    <tr style=\"text-align: right;\">\n",
              "      <th></th>\n",
              "      <th>dir</th>\n",
              "      <th>hir</th>\n",
              "      <th>lvr</th>\n",
              "      <th>ccs</th>\n",
              "      <th>mcs</th>\n",
              "      <th>uria</th>\n",
              "      <th>comdominiom</th>\n",
              "    </tr>\n",
              "  </thead>\n",
              "  <tbody>\n",
              "    <tr>\n",
              "      <th>count</th>\n",
              "      <td>2380.000000</td>\n",
              "      <td>2380.000000</td>\n",
              "      <td>2380.000000</td>\n",
              "      <td>2380.000000</td>\n",
              "      <td>2380.000000</td>\n",
              "      <td>2380.000000</td>\n",
              "      <td>2380.000000</td>\n",
              "    </tr>\n",
              "    <tr>\n",
              "      <th>mean</th>\n",
              "      <td>0.330814</td>\n",
              "      <td>0.255346</td>\n",
              "      <td>0.737776</td>\n",
              "      <td>2.116387</td>\n",
              "      <td>1.721008</td>\n",
              "      <td>3.774496</td>\n",
              "      <td>0.288235</td>\n",
              "    </tr>\n",
              "    <tr>\n",
              "      <th>std</th>\n",
              "      <td>0.107257</td>\n",
              "      <td>0.096656</td>\n",
              "      <td>0.178751</td>\n",
              "      <td>1.666721</td>\n",
              "      <td>0.537282</td>\n",
              "      <td>2.027062</td>\n",
              "      <td>0.453036</td>\n",
              "    </tr>\n",
              "    <tr>\n",
              "      <th>min</th>\n",
              "      <td>0.000000</td>\n",
              "      <td>0.000000</td>\n",
              "      <td>0.020000</td>\n",
              "      <td>1.000000</td>\n",
              "      <td>1.000000</td>\n",
              "      <td>1.800000</td>\n",
              "      <td>0.000000</td>\n",
              "    </tr>\n",
              "    <tr>\n",
              "      <th>25%</th>\n",
              "      <td>0.280000</td>\n",
              "      <td>0.214000</td>\n",
              "      <td>0.652681</td>\n",
              "      <td>1.000000</td>\n",
              "      <td>1.000000</td>\n",
              "      <td>3.100000</td>\n",
              "      <td>0.000000</td>\n",
              "    </tr>\n",
              "    <tr>\n",
              "      <th>50%</th>\n",
              "      <td>0.330000</td>\n",
              "      <td>0.260000</td>\n",
              "      <td>0.779536</td>\n",
              "      <td>1.000000</td>\n",
              "      <td>2.000000</td>\n",
              "      <td>3.200000</td>\n",
              "      <td>0.000000</td>\n",
              "    </tr>\n",
              "    <tr>\n",
              "      <th>75%</th>\n",
              "      <td>0.370000</td>\n",
              "      <td>0.298825</td>\n",
              "      <td>0.868459</td>\n",
              "      <td>2.000000</td>\n",
              "      <td>2.000000</td>\n",
              "      <td>3.900000</td>\n",
              "      <td>1.000000</td>\n",
              "    </tr>\n",
              "    <tr>\n",
              "      <th>max</th>\n",
              "      <td>3.000000</td>\n",
              "      <td>3.000000</td>\n",
              "      <td>1.950000</td>\n",
              "      <td>6.000000</td>\n",
              "      <td>4.000000</td>\n",
              "      <td>10.600000</td>\n",
              "      <td>1.000000</td>\n",
              "    </tr>\n",
              "  </tbody>\n",
              "</table>\n",
              "</div>\n",
              "      <button class=\"colab-df-convert\" onclick=\"convertToInteractive('df-58c0651c-4c43-4e2d-912e-606ff42cd006')\"\n",
              "              title=\"Convert this dataframe to an interactive table.\"\n",
              "              style=\"display:none;\">\n",
              "        \n",
              "  <svg xmlns=\"http://www.w3.org/2000/svg\" height=\"24px\"viewBox=\"0 0 24 24\"\n",
              "       width=\"24px\">\n",
              "    <path d=\"M0 0h24v24H0V0z\" fill=\"none\"/>\n",
              "    <path d=\"M18.56 5.44l.94 2.06.94-2.06 2.06-.94-2.06-.94-.94-2.06-.94 2.06-2.06.94zm-11 1L8.5 8.5l.94-2.06 2.06-.94-2.06-.94L8.5 2.5l-.94 2.06-2.06.94zm10 10l.94 2.06.94-2.06 2.06-.94-2.06-.94-.94-2.06-.94 2.06-2.06.94z\"/><path d=\"M17.41 7.96l-1.37-1.37c-.4-.4-.92-.59-1.43-.59-.52 0-1.04.2-1.43.59L10.3 9.45l-7.72 7.72c-.78.78-.78 2.05 0 2.83L4 21.41c.39.39.9.59 1.41.59.51 0 1.02-.2 1.41-.59l7.78-7.78 2.81-2.81c.8-.78.8-2.07 0-2.86zM5.41 20L4 18.59l7.72-7.72 1.47 1.35L5.41 20z\"/>\n",
              "  </svg>\n",
              "      </button>\n",
              "      \n",
              "  <style>\n",
              "    .colab-df-container {\n",
              "      display:flex;\n",
              "      flex-wrap:wrap;\n",
              "      gap: 12px;\n",
              "    }\n",
              "\n",
              "    .colab-df-convert {\n",
              "      background-color: #E8F0FE;\n",
              "      border: none;\n",
              "      border-radius: 50%;\n",
              "      cursor: pointer;\n",
              "      display: none;\n",
              "      fill: #1967D2;\n",
              "      height: 32px;\n",
              "      padding: 0 0 0 0;\n",
              "      width: 32px;\n",
              "    }\n",
              "\n",
              "    .colab-df-convert:hover {\n",
              "      background-color: #E2EBFA;\n",
              "      box-shadow: 0px 1px 2px rgba(60, 64, 67, 0.3), 0px 1px 3px 1px rgba(60, 64, 67, 0.15);\n",
              "      fill: #174EA6;\n",
              "    }\n",
              "\n",
              "    [theme=dark] .colab-df-convert {\n",
              "      background-color: #3B4455;\n",
              "      fill: #D2E3FC;\n",
              "    }\n",
              "\n",
              "    [theme=dark] .colab-df-convert:hover {\n",
              "      background-color: #434B5C;\n",
              "      box-shadow: 0px 1px 3px 1px rgba(0, 0, 0, 0.15);\n",
              "      filter: drop-shadow(0px 1px 2px rgba(0, 0, 0, 0.3));\n",
              "      fill: #FFFFFF;\n",
              "    }\n",
              "  </style>\n",
              "\n",
              "      <script>\n",
              "        const buttonEl =\n",
              "          document.querySelector('#df-58c0651c-4c43-4e2d-912e-606ff42cd006 button.colab-df-convert');\n",
              "        buttonEl.style.display =\n",
              "          google.colab.kernel.accessAllowed ? 'block' : 'none';\n",
              "\n",
              "        async function convertToInteractive(key) {\n",
              "          const element = document.querySelector('#df-58c0651c-4c43-4e2d-912e-606ff42cd006');\n",
              "          const dataTable =\n",
              "            await google.colab.kernel.invokeFunction('convertToInteractive',\n",
              "                                                     [key], {});\n",
              "          if (!dataTable) return;\n",
              "\n",
              "          const docLinkHtml = 'Like what you see? Visit the ' +\n",
              "            '<a target=\"_blank\" href=https://colab.research.google.com/notebooks/data_table.ipynb>data table notebook</a>'\n",
              "            + ' to learn more about interactive tables.';\n",
              "          element.innerHTML = '';\n",
              "          dataTable['output_type'] = 'display_data';\n",
              "          await google.colab.output.renderOutput(dataTable, element);\n",
              "          const docLink = document.createElement('div');\n",
              "          docLink.innerHTML = docLinkHtml;\n",
              "          element.appendChild(docLink);\n",
              "        }\n",
              "      </script>\n",
              "    </div>\n",
              "  </div>\n",
              "  "
            ]
          },
          "metadata": {},
          "execution_count": 186
        }
      ]
    },
    {
      "cell_type": "markdown",
      "source": [
        "### Prepped Data Review"
      ],
      "metadata": {
        "id": "KPcUYSyxIBmc"
      }
    },
    {
      "cell_type": "markdown",
      "source": [
        "The difference created allows us to use linear regression models, what will happen next is converting the datatypes from objects or strings into floats."
      ],
      "metadata": {
        "id": "LgFf0DEYIG5Z"
      }
    },
    {
      "cell_type": "markdown",
      "source": [
        "## Regression Modeling"
      ],
      "metadata": {
        "id": "7ltcX45DHrga"
      }
    },
    {
      "cell_type": "code",
      "source": [
        "from sklearn import feature_selection\n",
        "from sklearn.feature_selection import SelectKBest\n",
        "from sklearn.feature_selection import f_regression\n",
        "from sklearn.preprocessing import LabelEncoder\n",
        "pd.options.mode.chained_assignment = None\n",
        "\n",
        "# The way these models will be coded were taken from https://www.udemy.com/course/python-for-all-with-a-focus-on-financial-applications/learn/lecture/24601670#overview\n",
        "# Transforming objects/strings into floats for use in linear regressions\n",
        "# This link fixed a copy error message, https://stackoverflow.com/questions/20625582/how-to-deal-with-settingwithcopywarning-in-pandas\n",
        "lb = LabelEncoder() \n",
        "df_copy1['black'] = lb.fit_transform(df_copy1['black'])\n",
        "df_copy1['black'] = df_copy1['black'].astype('float')\n",
        "\n",
        "df_copy1['deny'] = lb.fit_transform(df_copy1['deny'])\n",
        "df_copy1['deny'] = df_copy1['deny'].astype('float')\n",
        "\n",
        "df_copy1['dmi'] = lb.fit_transform(df_copy1['dmi'])\n",
        "df_copy1['dmi'] = df_copy1['dmi'].astype('float')\n",
        "\n",
        "df_copy1['single'] = lb.fit_transform(df_copy1['single'])\n",
        "df_copy1['single'] = df_copy1['single'].astype('float')\n",
        "\n",
        "df_copy1['self'] = lb.fit_transform(df_copy1['self'])\n",
        "df_copy1['self'] = df_copy1['self'].astype('float')\n",
        "\n",
        "df_copy1['pbcr'] = lb.fit_transform(df_copy1['pbcr'])\n",
        "df_copy1['pbcr'] = df_copy1['pbcr'].astype('float')\n",
        "\n",
        "df_copy1['comdominiom'] = lb.fit_transform(df_copy1['comdominiom'])\n",
        "df_copy1['comdominiom'] = df_copy1['comdominiom'].astype('float')\n",
        "\n",
        "target = df_copy1[\"deny\"]\n",
        "features = df_copy1.drop(\"deny\", axis = 1).copy()\n",
        "\n",
        "features_names = list(features.columns)\n",
        "\n",
        "selection_kBest = SelectKBest(f_regression, k = 5).fit(features, target)\n",
        "\n",
        "features_kbest = selection_kBest.get_support()\n",
        "#print(features.dtypes)\n",
        "print(\"Overall Features: \", df_copy1.columns)\n",
        "print(\"Chosen Features: \", features.columns[features_kbest])\n",
        "print(selection_kBest.scores_)"
      ],
      "metadata": {
        "colab": {
          "base_uri": "https://localhost:8080/"
        },
        "id": "s-HZrxsop8iY",
        "outputId": "e6376a95-b756-4002-e66b-f75599f8efa0"
      },
      "execution_count": 187,
      "outputs": [
        {
          "output_type": "stream",
          "name": "stdout",
          "text": [
            "Overall Features:  Index(['dir', 'hir', 'lvr', 'ccs', 'mcs', 'pbcr', 'dmi', 'self', 'single',\n",
            "       'uria', 'comdominiom', 'black', 'deny'],\n",
            "      dtype='object')\n",
            "Chosen Features:  Index(['dir', 'ccs', 'pbcr', 'dmi', 'black'], dtype='object')\n",
            "[ 98.40628422  42.87189887  64.27136252 175.79653732  28.93863715\n",
            " 191.39523794 336.65093131   6.39183485  14.03865823   4.52794261\n",
            "   3.73133512 104.49006695]\n"
          ]
        }
      ]
    },
    {
      "cell_type": "markdown",
      "source": [
        "K-Best Scores"
      ],
      "metadata": {
        "id": "hkYx7HgBDxm0"
      }
    },
    {
      "cell_type": "code",
      "source": [
        "# The way these models will be coded were taken from https://www.udemy.com/course/python-for-all-with-a-focus-on-financial-applications/learn/lecture/24601670#overview\n",
        "scores = pd.DataFrame({'Feature Name' : features.columns, 'Score' : selection_kBest.scores_}).sort_values(by='Score', ascending=False)\n",
        "print(scores)"
      ],
      "metadata": {
        "colab": {
          "base_uri": "https://localhost:8080/"
        },
        "id": "9pWf0hvfwGW4",
        "outputId": "9a01ba7c-8cb8-4cb2-8a67-282491613029"
      },
      "execution_count": 188,
      "outputs": [
        {
          "output_type": "stream",
          "name": "stdout",
          "text": [
            "   Feature Name       Score\n",
            "6           dmi  336.650931\n",
            "5          pbcr  191.395238\n",
            "3           ccs  175.796537\n",
            "11        black  104.490067\n",
            "0           dir   98.406284\n",
            "2           lvr   64.271363\n",
            "1           hir   42.871899\n",
            "4           mcs   28.938637\n",
            "8        single   14.038658\n",
            "7          self    6.391835\n",
            "9          uria    4.527943\n",
            "10  comdominiom    3.731335\n"
          ]
        }
      ]
    },
    {
      "cell_type": "markdown",
      "source": [
        "**Univariate Analysis**"
      ],
      "metadata": {
        "id": "sJGKHDtSD0Xb"
      }
    },
    {
      "cell_type": "code",
      "source": [
        "# The way univariate was coded was taken from https://www.udemy.com/course/python-for-all-with-a-focus-on-financial-applications/learn/lecture/24601670#overview\n",
        "univariate_analysis_df = pd.DataFrame({'Chosen' : features.columns[features_kbest]})\n",
        "print(univariate_analysis_df)"
      ],
      "metadata": {
        "colab": {
          "base_uri": "https://localhost:8080/"
        },
        "id": "vDlKzkDCwi3G",
        "outputId": "5c113d92-b9c7-4474-ad5b-e401451cc8a7"
      },
      "execution_count": 189,
      "outputs": [
        {
          "output_type": "stream",
          "name": "stdout",
          "text": [
            "  Chosen\n",
            "0    dir\n",
            "1    ccs\n",
            "2   pbcr\n",
            "3    dmi\n",
            "4  black\n"
          ]
        }
      ]
    },
    {
      "cell_type": "markdown",
      "source": [
        "**Recursive Feature Elimination (RFE)**"
      ],
      "metadata": {
        "id": "HiJ8AYGY8eFQ"
      }
    },
    {
      "cell_type": "code",
      "source": [
        "from sklearn.linear_model import LinearRegression\n",
        "from sklearn.feature_selection import RFE\n",
        "# The way rfe was coded was taken from https://www.udemy.com/course/python-for-all-with-a-focus-on-financial-applications/learn/lecture/24601670#overview\n",
        "# wrap RFE\n",
        "lr = LinearRegression()\n",
        "\n",
        "rfe = RFE(estimator = lr, n_features_to_select=5, step = 1)\n",
        "rfe.fit(features, target)\n",
        "rfe_features = features.columns[rfe.support_]\n",
        "print(rfe_features)\n",
        "rfe_output = pd.DataFrame({'Features' : features.columns, \"Rank\" : rfe.ranking_}).sort_values(by=\"Rank\")\n",
        "print(rfe_output)"
      ],
      "metadata": {
        "colab": {
          "base_uri": "https://localhost:8080/"
        },
        "id": "JWfOQmdp8hM6",
        "outputId": "3309e7e4-dff7-48fb-a262-996f87ffe2e0"
      },
      "execution_count": 190,
      "outputs": [
        {
          "output_type": "stream",
          "name": "stdout",
          "text": [
            "Index(['dir', 'lvr', 'pbcr', 'dmi', 'black'], dtype='object')\n",
            "       Features  Rank\n",
            "0           dir     1\n",
            "2           lvr     1\n",
            "5          pbcr     1\n",
            "6           dmi     1\n",
            "11        black     1\n",
            "1           hir     2\n",
            "7          self     3\n",
            "8        single     4\n",
            "3           ccs     5\n",
            "4           mcs     6\n",
            "9          uria     7\n",
            "10  comdominiom     8\n"
          ]
        }
      ]
    },
    {
      "cell_type": "markdown",
      "source": [
        "**Lasso Regression**"
      ],
      "metadata": {
        "id": "En3FVaCMA-yA"
      }
    },
    {
      "cell_type": "code",
      "source": [
        "from sklearn.linear_model import Lasso\n",
        "# The way Lasso was coded was taken from https://www.udemy.com/course/python-for-all-with-a-focus-on-financial-applications/learn/lecture/24601670#overview\n",
        "lasso = Lasso(alpha=0.001).fit(features, target)\n",
        "\n",
        "lasso_info = pd.DataFrame({\"Features\" : features.columns, \"LassoCoef\" : lasso.coef_}).sort_values(by=\"LassoCoef\", ascending=True)\n",
        "print(lasso_info)"
      ],
      "metadata": {
        "colab": {
          "base_uri": "https://localhost:8080/"
        },
        "id": "mtKoaxQtA-RT",
        "outputId": "dc6923d1-bae8-4cf1-d375-5d774ace0271"
      },
      "execution_count": 191,
      "outputs": [
        {
          "output_type": "stream",
          "name": "stdout",
          "text": [
            "       Features  LassoCoef\n",
            "1           hir   0.000000\n",
            "10  comdominiom  -0.000000\n",
            "9          uria   0.005539\n",
            "4           mcs   0.015779\n",
            "8        single   0.030601\n",
            "3           ccs   0.032221\n",
            "7          self   0.046369\n",
            "2           lvr   0.074581\n",
            "11        black   0.084773\n",
            "5          pbcr   0.193248\n",
            "0           dir   0.338923\n",
            "6           dmi   0.667004\n"
          ]
        }
      ]
    },
    {
      "cell_type": "code",
      "source": [
        "lasso_info[\"LassoCoef\"] = abs(lasso_info[\"LassoCoef\"])\n",
        "lasso_df = lasso_info.sort_values(by=\"LassoCoef\",ascending=False)\n",
        "print(lasso_df)"
      ],
      "metadata": {
        "colab": {
          "base_uri": "https://localhost:8080/"
        },
        "id": "7wZiIjbeCOgn",
        "outputId": "05fd4177-e6d8-4fdc-b013-47307ba36519"
      },
      "execution_count": 192,
      "outputs": [
        {
          "output_type": "stream",
          "name": "stdout",
          "text": [
            "       Features  LassoCoef\n",
            "6           dmi   0.667004\n",
            "0           dir   0.338923\n",
            "5          pbcr   0.193248\n",
            "11        black   0.084773\n",
            "2           lvr   0.074581\n",
            "7          self   0.046369\n",
            "3           ccs   0.032221\n",
            "8        single   0.030601\n",
            "4           mcs   0.015779\n",
            "9          uria   0.005539\n",
            "1           hir   0.000000\n",
            "10  comdominiom   0.000000\n"
          ]
        }
      ]
    },
    {
      "cell_type": "markdown",
      "source": [
        "Collect the Feature Selections"
      ],
      "metadata": {
        "id": "s42BH2SIFMT8"
      }
    },
    {
      "cell_type": "code",
      "source": [
        "# used to make  a DF of the top 5 in the results\n",
        "univariate_analysis_df = pd.DataFrame({\"Uni\" : features.columns[features_kbest]})\n",
        "rfe_analysis_df = pd.DataFrame({\"RFE\" : rfe_output[\"Features\"].head(5).values})\n",
        "lasso_analysis_df = pd.DataFrame({\"Lasso\" : lasso_df[\"Features\"].head(5).values})\n",
        "\n",
        "selected = [univariate_analysis_df, rfe_analysis_df, lasso_analysis_df]\n",
        "final_df = pd.concat(selected, axis = 1)"
      ],
      "metadata": {
        "id": "rpxlxuuGFMA7"
      },
      "execution_count": 193,
      "outputs": []
    },
    {
      "cell_type": "markdown",
      "source": [
        "Training Function"
      ],
      "metadata": {
        "id": "9BWAqckgEK2l"
      }
    },
    {
      "cell_type": "code",
      "source": [
        "# Training func creation taken from the udemy course, https://www.udemy.com/course/python-for-all-with-a-focus-on-financial-applications/learn/lecture/24601670#overview\n",
        "from sklearn.model_selection import train_test_split\n",
        "from sklearn.metrics import r2_score, mean_squared_error\n",
        "\n",
        "def score(name,X,y):\n",
        "  X_train,X_test,y_train,y_test = train_test_split(X,y,test_size=.2)\n",
        "  le = LinearRegression(normalize=True).fit(X_train,y_train)\n",
        "  print(name)\n",
        "  print(\"Training Score:\\t \", le.score(X_train, y_train))\n",
        "\n",
        "  y_pred = le.predict(X_test)\n",
        "  print(\"R2_score:\\t \", r2_score(y_test,y_pred))"
      ],
      "metadata": {
        "id": "ckREJfjlEKmN"
      },
      "execution_count": 194,
      "outputs": []
    },
    {
      "cell_type": "markdown",
      "source": [
        "Function being used to train it for the three regression methods"
      ],
      "metadata": {
        "id": "Tq9CcIyRHLgg"
      }
    },
    {
      "cell_type": "code",
      "source": [
        "# Loop to use function\n",
        "for k in final_df.columns:\n",
        "  score(k,features[final_df[k].values], target)\n",
        "  print()"
      ],
      "metadata": {
        "colab": {
          "base_uri": "https://localhost:8080/"
        },
        "id": "SOy4GJfrE6R3",
        "outputId": "d13f439b-fff2-4dab-f445-136c0fd45376"
      },
      "execution_count": 195,
      "outputs": [
        {
          "output_type": "stream",
          "name": "stdout",
          "text": [
            "Uni\n",
            "Training Score:\t  0.2585343635369015\n",
            "R2_score:\t  0.204520886670295\n",
            "\n",
            "RFE\n",
            "Training Score:\t  0.23307358526165722\n",
            "R2_score:\t  0.2129521846410316\n",
            "\n",
            "Lasso\n",
            "Training Score:\t  0.18478837949611537\n",
            "R2_score:\t  0.3910091672774668\n",
            "\n"
          ]
        }
      ]
    },
    {
      "cell_type": "markdown",
      "source": [
        "### Select Highest Model"
      ],
      "metadata": {
        "id": "nWDWg95pJr-d"
      }
    },
    {
      "cell_type": "markdown",
      "source": [
        "The model with the highest training score is the **Univariate** at a score of 0.2585343635369015, but its r2 score is 0.204520886670295.\n",
        "\n",
        "The model **RFE** has a training score of 0.23307358526165722, but its r2 score is 0.2129521846410316.\n",
        "\n",
        "The model with the highest r2 score of 0.3910091672774668 is the **Lasso** model, meaning that it is the most accurate out of the rest.\n",
        "\n",
        "With Lasso having the highest r2 score, it is selected as my most preferred model.\n",
        "\n",
        "In my opinion before coding up the linear regression models I believed that the univariate model would be the one with the highest r2 score, it came in last for r2 score which suprised me since I had rated it highly before coding it up. Seeing being black is a factor in Univariate and Lasso could be used in the argument that banks discriminate against black people."
      ],
      "metadata": {
        "id": "Tvtl7WG8K8p3"
      }
    },
    {
      "cell_type": "markdown",
      "source": [
        "## Conclusion"
      ],
      "metadata": {
        "id": "sCny-pxLORrW"
      }
    },
    {
      "cell_type": "markdown",
      "source": [
        "In conclusion, two linear regression models contain being black in the top 5 reasons for being denied, it could be said that yes this proves that the banking industry is discriminating but it could also be argued that the sample size should be large than 2,000."
      ],
      "metadata": {
        "id": "RE_pDIrlOU-5"
      }
    }
  ]
}
